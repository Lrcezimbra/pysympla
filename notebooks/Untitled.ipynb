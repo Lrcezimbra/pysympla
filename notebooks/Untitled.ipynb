{
 "cells": [
  {
   "cell_type": "code",
   "execution_count": 7,
   "metadata": {},
   "outputs": [],
   "source": [
    "from decouple import config\n",
    "from pysympla import Sympla"
   ]
  },
  {
   "cell_type": "code",
   "execution_count": 8,
   "metadata": {
    "collapsed": true
   },
   "outputs": [],
   "source": [
    "sympla = Sympla(config('SYMPLA_USERNAME'), config('SYMPLA_PASSWORD'))"
   ]
  },
  {
   "cell_type": "code",
   "execution_count": 9,
   "metadata": {},
   "outputs": [
    {
     "data": {
      "text/plain": [
       "('Chima Run Porto Alegre ', '363', '32')"
      ]
     },
     "execution_count": 9,
     "metadata": {},
     "output_type": "execute_result"
    }
   ],
   "source": [
    "event = sympla.get_event('168054')\n",
    "event.title, event.confirmed_participants, event.pending_participants"
   ]
  },
  {
   "cell_type": "code",
   "execution_count": 10,
   "metadata": {},
   "outputs": [
    {
     "name": "stdout",
     "output_type": "stream",
     "text": [
      "<pysympla.Event object at 0x7f3789a5ff60> Chima Run Porto Alegre 363 32\n",
      "<pysympla.Event object at 0x7f3789a5fd30> Chima Run Balneário Camboriú 52 6\n",
      "<pysympla.Event object at 0x7f37896af828> Pink Run Itapema 9 3\n",
      "<pysympla.Event object at 0x7f37895c90b8> Pink Run Tijucas 1 0\n",
      "<pysympla.Event object at 0x7f379833c2e8> Pink Run Balneário Camboriú 5 0\n"
     ]
    }
   ],
   "source": [
    "for event in sympla.get_events():\n",
    "    print(event, event.title, event.confirmed_participants, event.pending_participants)"
   ]
  },
  {
   "cell_type": "code",
   "execution_count": null,
   "metadata": {
    "collapsed": true
   },
   "outputs": [],
   "source": []
  }
 ],
 "metadata": {
  "kernelspec": {
   "display_name": "Python 3",
   "language": "python",
   "name": "python3"
  },
  "language_info": {
   "codemirror_mode": {
    "name": "ipython",
    "version": 3
   },
   "file_extension": ".py",
   "mimetype": "text/x-python",
   "name": "python",
   "nbconvert_exporter": "python",
   "pygments_lexer": "ipython3",
   "version": "3.5.2"
  }
 },
 "nbformat": 4,
 "nbformat_minor": 2
}
