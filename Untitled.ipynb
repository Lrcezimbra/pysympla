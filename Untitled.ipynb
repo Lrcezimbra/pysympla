{
 "cells": [
  {
   "cell_type": "code",
   "execution_count": 1,
   "metadata": {},
   "outputs": [],
   "source": [
    "import requests\n",
    "from decouple import config\n",
    "from bs4 import BeautifulSoup"
   ]
  },
  {
   "cell_type": "code",
   "execution_count": 27,
   "metadata": {
    "collapsed": true
   },
   "outputs": [],
   "source": [
    "BASE_URL = 'https://www.sympla.com.br'\n",
    "LOGIN_URL = BASE_URL + '/access/login'\n",
    "PARTICIPANTS_URL = BASE_URL + '/participantes-evento'\n",
    "SYMPLA_USERNAME = config('SYMPLA_USERNAME')\n",
    "SYMPLA_PASSWORD = config('SYMPLA_PASSWORD')"
   ]
  },
  {
   "cell_type": "code",
   "execution_count": 17,
   "metadata": {
    "collapsed": true
   },
   "outputs": [],
   "source": [
    "data = {\n",
    "    'username': SYMPLA_USERNAME,\n",
    "    'password': SYMPLA_PASSWORD,\n",
    "    'rememberMe': True,\n",
    "}\n",
    "headers = {\n",
    "    'X-Requested-With': 'XMLHttpRequest',\n",
    "}"
   ]
  },
  {
   "cell_type": "code",
   "execution_count": 32,
   "metadata": {},
   "outputs": [
    {
     "data": {
      "text/plain": [
       "<Response [200]>"
      ]
     },
     "execution_count": 32,
     "metadata": {},
     "output_type": "execute_result"
    }
   ],
   "source": [
    "logged = requests.post(LOGIN_URL, data=data, headers=headers)\n",
    "logged"
   ]
  },
  {
   "cell_type": "code",
   "execution_count": 33,
   "metadata": {},
   "outputs": [
    {
     "data": {
      "text/plain": [
       "<Response [200]>"
      ]
     },
     "execution_count": 33,
     "metadata": {},
     "output_type": "execute_result"
    }
   ],
   "source": [
    "CHIMARUNPOA_ID = 168054\n",
    "chimapoa = requests.get(PARTICIPANTS_URL, params={'id': CHIMARUNPOA_ID}, cookies=logged.cookies, headers=headers)\n",
    "chimapoa"
   ]
  },
  {
   "cell_type": "code",
   "execution_count": 34,
   "metadata": {},
   "outputs": [
    {
     "data": {
      "text/plain": [
       "('363', '29')"
      ]
     },
     "execution_count": 34,
     "metadata": {},
     "output_type": "execute_result"
    }
   ],
   "source": [
    "soup = BeautifulSoup(chimapoa.text, 'html5lib')\n",
    "confirmed_participants = soup.find(id='spanTotalParticipants').get_text()\n",
    "pending_participants = soup.find(id='spanTotalPendingParticipants').get_text()\n",
    "confirmed_participants, pending_participants"
   ]
  },
  {
   "cell_type": "code",
   "execution_count": null,
   "metadata": {
    "collapsed": true
   },
   "outputs": [],
   "source": []
  }
 ],
 "metadata": {
  "kernelspec": {
   "display_name": "Python 3",
   "language": "python",
   "name": "python3"
  },
  "language_info": {
   "codemirror_mode": {
    "name": "ipython",
    "version": 3
   },
   "file_extension": ".py",
   "mimetype": "text/x-python",
   "name": "python",
   "nbconvert_exporter": "python",
   "pygments_lexer": "ipython3",
   "version": "3.5.2"
  }
 },
 "nbformat": 4,
 "nbformat_minor": 2
}
